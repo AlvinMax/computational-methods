{
 "cells": [
  {
   "cell_type": "code",
   "execution_count": null,
   "metadata": {},
   "outputs": [],
   "source": [
    "import numpy as np"
   ]
  },
  {
   "cell_type": "code",
   "execution_count": 177,
   "metadata": {},
   "outputs": [],
   "source": [
    "def read_matrix():\n",
    "    f = open('test.txt', 'r')\n",
    "    m = []\n",
    "    for line in f:\n",
    "        m.append([float(x) for x in line.split()])\n",
    "    return m"
   ]
  },
  {
   "cell_type": "code",
   "execution_count": 178,
   "metadata": {},
   "outputs": [],
   "source": [
    "m = read_matrix()\n",
    "b = np.array([x[-1:] for x in m])\n",
    "m = np.array([x[:-1] for x in m])\n",
    "# mt = m.transpose()\n",
    "# m = mt.dot(m)\n",
    "# b = mt.dot(b)"
   ]
  },
  {
   "cell_type": "code",
   "execution_count": 179,
   "metadata": {},
   "outputs": [
    {
     "data": {
      "text/plain": [
       "array([[1.],\n",
       "       [2.],\n",
       "       [3.],\n",
       "       [4.],\n",
       "       [5.]])"
      ]
     },
     "execution_count": 179,
     "metadata": {},
     "output_type": "execute_result"
    }
   ],
   "source": [
    "#m = np.matrix(m)\n",
    "b"
   ]
  },
  {
   "cell_type": "code",
   "execution_count": 180,
   "metadata": {},
   "outputs": [
    {
     "name": "stdout",
     "output_type": "stream",
     "text": [
      "[-0.          0.52713385  0.93634848  0.99721901  0.99995767]\n"
     ]
    },
    {
     "data": {
      "text/plain": [
       "array([[1.        , 0.5       , 0.33333333, 0.25      , 0.2       ],\n",
       "       [0.5       , 0.33333333, 0.25      , 0.2       , 0.16666667],\n",
       "       [0.33333333, 0.25      , 0.2       , 0.16666667, 0.14285714],\n",
       "       [0.25      , 0.2       , 0.16666667, 0.14285714, 0.125     ],\n",
       "       [0.2       , 0.16666667, 0.14285714, 0.125     , 0.11111111]])"
      ]
     },
     "execution_count": 180,
     "metadata": {},
     "output_type": "execute_result"
    }
   ],
   "source": [
    "#m = np.random.rand(3, 3)\n",
    "B = np.tril(m)\n",
    "C = np.triu(m, k=1)\n",
    "B_inv = np.linalg.inv(B)\n",
    "\n",
    "eigenvalues = np.linalg.eig(-B_inv.dot(C))[0]\n",
    "print(eigenvalues)\n",
    "if not all([abs(x) <= 1 for x in eigenvalues]):\n",
    "    print(\"Вы проиграли\")\n",
    "\n",
    "def next(x_k):\n",
    "    return -B_inv.dot(C).dot(x_k) + B_inv.dot(b)\n",
    "m"
   ]
  },
  {
   "cell_type": "code",
   "execution_count": 181,
   "metadata": {},
   "outputs": [
    {
     "data": {
      "text/plain": [
       "array([[ 0.        , -0.5       , -0.33333333, -0.25      , -0.2       ],\n",
       "       [-1.5       ,  0.        , -0.75      , -0.6       , -0.5       ],\n",
       "       [-1.66666667, -1.25      ,  0.        , -0.83333333, -0.71428571],\n",
       "       [-1.75      , -1.4       , -1.16666667,  0.        , -0.875     ],\n",
       "       [-1.8       , -1.5       , -1.28571429, -1.125     ,  0.        ]])"
      ]
     },
     "execution_count": 181,
     "metadata": {},
     "output_type": "execute_result"
    }
   ],
   "source": [
    "n = 5\n",
    "BB = np.zeros((n, n))\n",
    "for i in range(0, n):\n",
    "    for j in range(0, n):\n",
    "        BB[i][j] = -m[i][j] / m[i][i] if i != j else 0\n",
    "B1 = np.tril(BB)\n",
    "B2 = np.triu(BB)\n",
    "BB"
   ]
  },
  {
   "cell_type": "code",
   "execution_count": 183,
   "metadata": {},
   "outputs": [],
   "source": [
    "def check(x):\n",
    "    x = [a[0] for a in x]\n",
    "    for line in m:\n",
    "        res = sum([a[0] * a[1] for a in zip(line, x)])\n",
    "        print(res)\n",
    "\n",
    "def should_finish(prev, curr, eps=0.0001):\n",
    "    #return np.linalg.norm(prev - curr) < eps * (1 - np.linalg.norm(BB)) / np.linalg.norm(B2)\n",
    "    return np.linalg.norm(prev - curr) / np.linalg.norm(curr) < eps"
   ]
  },
  {
   "cell_type": "code",
   "execution_count": 185,
   "metadata": {},
   "outputs": [
    {
     "name": "stdout",
     "output_type": "stream",
     "text": [
      "[[   124.51271409]\n",
      " [ -2871.05498108]\n",
      " [ 14451.89106919]\n",
      " [-24582.94495357]\n",
      " [ 13202.26985579]]\n",
      "143323\n",
      "0.9999793737833897\n",
      "2.0001158974628197\n",
      "2.9997651616363328\n",
      "4.000146729097878\n",
      "5.0000000000009095\n",
      "None\n"
     ]
    }
   ],
   "source": [
    "prev = np.array([[0], [0], [0], [0], [0]])\n",
    "curr = next(prev)\n",
    "cnt = 1\n",
    "while not should_finish(prev, curr, eps=0.0000001):\n",
    "    # print(x)\n",
    "    prev = curr\n",
    "    curr = next(curr)\n",
    "    cnt += 1\n",
    "print(curr)\n",
    "print(cnt)\n",
    "print(check(curr))"
   ]
  },
  {
   "cell_type": "code",
   "execution_count": null,
   "metadata": {},
   "outputs": [],
   "source": [
    "prev = np.array([[0], [0], [0], [0], [0]])\n",
    "curr = next(prev)\n",
    "cnt = 1\n",
    "w = 2\n",
    "while not should_finish(prev, curr, eps=0.0000001):\n",
    "    # print(x)\n",
    "    prev = curr\n",
    "    curr = next(curr)\n",
    "    curr += (w - 1) * (curr - prev)\n",
    "    cnt += 1\n",
    "print(curr)\n",
    "print(cnt)\n",
    "print(check(curr))"
   ]
  },
  {
   "cell_type": "code",
   "execution_count": 161,
   "metadata": {},
   "outputs": [
    {
     "data": {
      "text/plain": [
       "array([[3.22030935],\n",
       "       [0.49416622],\n",
       "       [2.98369604],\n",
       "       [3.57453371]])"
      ]
     },
     "execution_count": 161,
     "metadata": {},
     "output_type": "execute_result"
    }
   ],
   "source": [
    "B1.dot(curr) + B2.dot(curr) + b"
   ]
  },
  {
   "cell_type": "code",
   "execution_count": 182,
   "metadata": {},
   "outputs": [
    {
     "data": {
      "text/plain": [
       "6.716666666666667"
      ]
     },
     "execution_count": 182,
     "metadata": {},
     "output_type": "execute_result"
    }
   ],
   "source": [
    "(1 - np.linalg.norm(BB)) / np.linalg.norm(B2)\n",
    "np.linalg.norm(BB, ord=1)\n"
   ]
  },
  {
   "cell_type": "code",
   "execution_count": 176,
   "metadata": {},
   "outputs": [
    {
     "name": "stdout",
     "output_type": "stream",
     "text": [
      "1.0 0.5 0.3333333333333333 0.25 0.2 \n",
      "0.5 0.3333333333333333 0.25 0.2 0.16666666666666666 \n",
      "0.3333333333333333 0.25 0.2 0.16666666666666666 0.14285714285714285 \n",
      "0.25 0.2 0.16666666666666666 0.14285714285714285 0.125 \n",
      "0.2 0.16666666666666666 0.14285714285714285 0.125 0.1111111111111111 \n"
     ]
    }
   ],
   "source": [
    "for i in range(0, 5):\n",
    "    for j in range(0, 5):\n",
    "        print(1 / (1.0 + i + j), end=' ')\n",
    "    print()"
   ]
  }
 ],
 "metadata": {
  "kernelspec": {
   "display_name": "Python 3",
   "language": "python",
   "name": "python3"
  },
  "language_info": {
   "codemirror_mode": {
    "name": "ipython",
    "version": 3
   },
   "file_extension": ".py",
   "mimetype": "text/x-python",
   "name": "python",
   "nbconvert_exporter": "python",
   "pygments_lexer": "ipython3",
   "version": "3.5.2"
  }
 },
 "nbformat": 4,
 "nbformat_minor": 2
}
